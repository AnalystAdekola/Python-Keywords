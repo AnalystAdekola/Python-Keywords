{
 "cells": [
  {
   "cell_type": "markdown",
   "id": "a9d5309a",
   "metadata": {},
   "source": [
    "# Python Keywords Lesson\n"
   ]
  },
  {
   "cell_type": "markdown",
   "id": "910a4cfd",
   "metadata": {},
   "source": [
    "### Value Keywords\n",
    "### True, False, and None"
   ]
  },
  {
   "cell_type": "code",
   "execution_count": 1,
   "id": "02f64bb9",
   "metadata": {},
   "outputs": [
    {
     "data": {
      "text/plain": [
       "True"
      ]
     },
     "execution_count": 1,
     "metadata": {},
     "output_type": "execute_result"
    }
   ],
   "source": [
    "x = True\n",
    "x is True"
   ]
  },
  {
   "cell_type": "code",
   "execution_count": 2,
   "id": "a1292d5b",
   "metadata": {},
   "outputs": [
    {
     "data": {
      "text/plain": [
       "True"
      ]
     },
     "execution_count": 2,
     "metadata": {},
     "output_type": "execute_result"
    }
   ],
   "source": [
    "y =False\n",
    "y is False"
   ]
  },
  {
   "cell_type": "code",
   "execution_count": 3,
   "id": "2591d720",
   "metadata": {},
   "outputs": [
    {
     "data": {
      "text/plain": [
       "False"
      ]
     },
     "execution_count": 3,
     "metadata": {},
     "output_type": "execute_result"
    }
   ],
   "source": [
    "x is False"
   ]
  },
  {
   "cell_type": "code",
   "execution_count": 4,
   "id": "4da293a3",
   "metadata": {},
   "outputs": [
    {
     "data": {
      "text/plain": [
       "False"
      ]
     },
     "execution_count": 4,
     "metadata": {},
     "output_type": "execute_result"
    }
   ],
   "source": [
    "y is True"
   ]
  },
  {
   "cell_type": "code",
   "execution_count": 5,
   "id": "2b4bc307",
   "metadata": {},
   "outputs": [
    {
     "data": {
      "text/plain": [
       "False"
      ]
     },
     "execution_count": 5,
     "metadata": {},
     "output_type": "execute_result"
    }
   ],
   "source": [
    "code =(\"Let's Code\")\n",
    "code is True"
   ]
  },
  {
   "cell_type": "code",
   "execution_count": 6,
   "id": "ca290c4c",
   "metadata": {},
   "outputs": [
    {
     "data": {
      "text/plain": [
       "True"
      ]
     },
     "execution_count": 6,
     "metadata": {},
     "output_type": "execute_result"
    }
   ],
   "source": [
    "bool(code) is True"
   ]
  },
  {
   "cell_type": "code",
   "execution_count": 7,
   "id": "0a870ee0",
   "metadata": {},
   "outputs": [
    {
     "data": {
      "text/plain": [
       "False"
      ]
     },
     "execution_count": 7,
     "metadata": {},
     "output_type": "execute_result"
    }
   ],
   "source": [
    "bool(code) is False"
   ]
  },
  {
   "cell_type": "code",
   "execution_count": 8,
   "id": "189aedc0",
   "metadata": {},
   "outputs": [
    {
     "data": {
      "text/plain": [
       "False"
      ]
     },
     "execution_count": 8,
     "metadata": {},
     "output_type": "execute_result"
    }
   ],
   "source": [
    "code1 = \"\"\n",
    "code1 is True"
   ]
  },
  {
   "cell_type": "code",
   "execution_count": 9,
   "id": "b5ba1d8b",
   "metadata": {},
   "outputs": [
    {
     "data": {
      "text/plain": [
       "False"
      ]
     },
     "execution_count": 9,
     "metadata": {},
     "output_type": "execute_result"
    }
   ],
   "source": [
    "code1 is False"
   ]
  },
  {
   "cell_type": "code",
   "execution_count": 10,
   "id": "af08ba97",
   "metadata": {},
   "outputs": [
    {
     "data": {
      "text/plain": [
       "False"
      ]
     },
     "execution_count": 10,
     "metadata": {},
     "output_type": "execute_result"
    }
   ],
   "source": [
    "bool(code1) is True"
   ]
  },
  {
   "cell_type": "code",
   "execution_count": 11,
   "id": "1d86b2db",
   "metadata": {},
   "outputs": [
    {
     "data": {
      "text/plain": [
       "True"
      ]
     },
     "execution_count": 11,
     "metadata": {},
     "output_type": "execute_result"
    }
   ],
   "source": [
    "bool(code1) is False"
   ]
  },
  {
   "cell_type": "code",
   "execution_count": 12,
   "id": "e85d941f",
   "metadata": {},
   "outputs": [
    {
     "name": "stdout",
     "output_type": "stream",
     "text": [
      "x is truthy\n"
     ]
    }
   ],
   "source": [
    "if x:\n",
    "    print('x is truthy')"
   ]
  },
  {
   "cell_type": "code",
   "execution_count": 15,
   "id": "d94bc030",
   "metadata": {},
   "outputs": [
    {
     "name": "stdout",
     "output_type": "stream",
     "text": [
      "x is Falsy\n"
     ]
    }
   ],
   "source": [
    "if code1:\n",
    "    print('x is truthy')\n",
    "else:\n",
    "    print('x is Falsy')"
   ]
  },
  {
   "cell_type": "markdown",
   "id": "2ad24801",
   "metadata": {},
   "source": [
    "#### In Python, you  don’t need to convert values to be explicitly True or False.\n",
    "#### Python will  determine the truthiness of the value for you."
   ]
  },
  {
   "cell_type": "code",
   "execution_count": 29,
   "id": "247df858",
   "metadata": {},
   "outputs": [
    {
     "name": "stdout",
     "output_type": "stream",
     "text": [
      "hello\n",
      "None\n"
     ]
    }
   ],
   "source": [
    "# None Keyword\n",
    "# None represents no value\n",
    "# None is represented as null, nil, none, undef, or undefined.\n",
    "\n",
    "# def has_no_return():\n",
    "#    pass\n",
    "# has_no_return()\n",
    "# print(has_no_return())\n",
    "# None\n",
    "\n",
    "def func():\n",
    "    print('hello')\n",
    "x = func()\n",
    "print(x)"
   ]
  },
  {
   "cell_type": "code",
   "execution_count": 31,
   "id": "8bd2eabb",
   "metadata": {
    "scrolled": true
   },
   "outputs": [
    {
     "name": "stdout",
     "output_type": "stream",
     "text": [
      "\n",
      "None\n"
     ]
    }
   ],
   "source": [
    "# print() has no return value, it will return None\n",
    "x = print()\n",
    "print(x)"
   ]
  },
  {
   "cell_type": "markdown",
   "id": "996c9f1f",
   "metadata": {},
   "source": [
    "# Operator Keywords\n",
    "# && and, | | or, ! not, in, === is\n",
    "# && and, both statements must agree\n",
    "# || or, either statement must agree\n",
    "# ! not, not present\n",
    "# in, present\n",
    "# === is, represents"
   ]
  },
  {
   "cell_type": "code",
   "execution_count": 35,
   "id": "972aeb17",
   "metadata": {},
   "outputs": [
    {
     "name": "stdout",
     "output_type": "stream",
     "text": [
      "Loan Granted!\n"
     ]
    }
   ],
   "source": [
    "age = 30\n",
    "status = \"Employed\"\n",
    "income = 200000\n",
    "\n",
    "\n",
    "valid_age = age >= 18\n",
    "valis_status = status = \"Employed\"\n",
    "valid_income = income >= 200000\n",
    "\n",
    "loan_granted = valid_age and valis_status and valid_income\n",
    "\n",
    "if loan_granted:\n",
    "    print('Loan Granted!')\n",
    "else:\n",
    "    print('Loan Declined!')"
   ]
  },
  {
   "cell_type": "markdown",
   "id": "ea48a904",
   "metadata": {},
   "source": [
    "> The and operator can work with 2 or more statements"
   ]
  },
  {
   "cell_type": "code",
   "execution_count": 36,
   "id": "49846ec9",
   "metadata": {},
   "outputs": [
    {
     "name": "stdout",
     "output_type": "stream",
     "text": [
      "You have been selected for the competition :)\n"
     ]
    }
   ],
   "source": [
    "# or\n",
    "\n",
    "Height = 5.76\n",
    "Weight = 65.6\n",
    "Age = 17\n",
    "\n",
    "Valid_Height= Height >= 4\n",
    "Valid_Weight = Weight >= 40\n",
    "Valid_Age = Age >= 18\n",
    "\n",
    "Selected = Valid_Height or Valid_Weight or Valid_Age\n",
    "\n",
    "if Selected:\n",
    "    print('You have been selected for the competition :)')\n",
    "else:\n",
    "    print('You are not qualified!')"
   ]
  },
  {
   "cell_type": "markdown",
   "id": "715d4e58",
   "metadata": {},
   "source": [
    "> As long as a condition is met, it will pass True"
   ]
  },
  {
   "cell_type": "code",
   "execution_count": 37,
   "id": "7e22bafd",
   "metadata": {},
   "outputs": [
    {
     "data": {
      "text/plain": [
       "False"
      ]
     },
     "execution_count": 37,
     "metadata": {},
     "output_type": "execute_result"
    }
   ],
   "source": [
    "# not\n",
    "Ade_age = 200\n",
    "not Ade_age"
   ]
  },
  {
   "cell_type": "code",
   "execution_count": 38,
   "id": "ce514b99",
   "metadata": {},
   "outputs": [
    {
     "data": {
      "text/plain": [
       "True"
      ]
     },
     "execution_count": 38,
     "metadata": {},
     "output_type": "execute_result"
    }
   ],
   "source": [
    "Femi_age = ''\n",
    "not Femi_age"
   ]
  },
  {
   "cell_type": "markdown",
   "id": "e59bfdaf",
   "metadata": {},
   "source": [
    "> not returns the opposite of the True value"
   ]
  },
  {
   "cell_type": "code",
   "execution_count": 43,
   "id": "7101370b",
   "metadata": {},
   "outputs": [
    {
     "data": {
      "text/plain": [
       "False"
      ]
     },
     "execution_count": 43,
     "metadata": {},
     "output_type": "execute_result"
    }
   ],
   "source": [
    "# in\n",
    "\n",
    "Country = 'Nigeria'\n",
    "'n' in Country #returns False, because there isn't a small letter n in 'Nigeria'"
   ]
  },
  {
   "cell_type": "code",
   "execution_count": 44,
   "id": "3a170af8",
   "metadata": {},
   "outputs": [
    {
     "data": {
      "text/plain": [
       "True"
      ]
     },
     "execution_count": 44,
     "metadata": {},
     "output_type": "execute_result"
    }
   ],
   "source": [
    "'N' in Country #returns True"
   ]
  },
  {
   "cell_type": "code",
   "execution_count": 45,
   "id": "44bab61b",
   "metadata": {},
   "outputs": [
    {
     "name": "stdout",
     "output_type": "stream",
     "text": [
      "Ada\n",
      "Femi\n",
      "Musa\n",
      "Ade\n"
     ]
    }
   ],
   "source": [
    "# using in to iterate\n",
    "# Print all names in the list\n",
    "names = [\"Ada\", \"Femi\", \"Musa\", \"Ade\"]\n",
    "for name in names:\n",
    "  print(name)"
   ]
  },
  {
   "cell_type": "markdown",
   "id": "f87165da",
   "metadata": {},
   "source": [
    ">'in' keyword works with all containers, list, tuple, dict, set and so on"
   ]
  },
  {
   "cell_type": "code",
   "execution_count": 56,
   "id": "c62842c5",
   "metadata": {},
   "outputs": [
    {
     "name": "stdout",
     "output_type": "stream",
     "text": [
      "True\n",
      "True\n"
     ]
    }
   ],
   "source": [
    "# is\n",
    "#The is keyword in Python is used for object identity comparison, not for checking value equality. \n",
    "#It determines whether two variables refer to the exact same object in memory.\n",
    "\n",
    "x = 200\n",
    "y = 200\n",
    "\n",
    "\n",
    "print(x == y)  # True - They have the same value (200)\n",
    "print(x is y)  # True - They point to the same object in memory (for small integers)"
   ]
  },
  {
   "cell_type": "code",
   "execution_count": 61,
   "id": "505d58d8",
   "metadata": {},
   "outputs": [
    {
     "name": "stdout",
     "output_type": "stream",
     "text": [
      "True\n",
      "True\n"
     ]
    }
   ],
   "source": [
    "a = \"Hello\"\n",
    "b = \"Hello\"\n",
    "\n",
    "print(a == b)  # True - They have the same value (\"Hello\")\n",
    "print(a is b)  # True - They point to the same object in memory"
   ]
  },
  {
   "cell_type": "code",
   "execution_count": 63,
   "id": "915e2514",
   "metadata": {
    "scrolled": true
   },
   "outputs": [
    {
     "name": "stdout",
     "output_type": "stream",
     "text": [
      "True\n",
      "False\n"
     ]
    }
   ],
   "source": [
    "c = list([1, 2, 3, 4, 5])\n",
    "d = list([1, 2, 3, 4, 5])\n",
    "\n",
    "\n",
    "print(c == d)  # True - They have the same values ([1, 2, 3, 4, 5])\n",
    "print(c is d)  # False - They point to different objects in memory"
   ]
  },
  {
   "cell_type": "markdown",
   "id": "18b02a9a",
   "metadata": {},
   "source": [
    "# Control flow keywords, if, else, elif"
   ]
  },
  {
   "cell_type": "markdown",
   "id": "1139a2e5",
   "metadata": {},
   "source": [
    "> The if keyword is fundamental to conditional programming in Python. \n",
    "> It allows you to execute code blocks only when a certain condition is met.\n",
    "> The else block provides an alternative code block to execute if the condition in the if statement is False.  \n",
    "> You can chain multiple conditions using elif (else if) statements to handle more complex scenarios. "
   ]
  },
  {
   "cell_type": "code",
   "execution_count": 64,
   "id": "a391fe84",
   "metadata": {},
   "outputs": [
    {
     "name": "stdout",
     "output_type": "stream",
     "text": [
      "You are not qualified. The game is for under 18\n"
     ]
    }
   ],
   "source": [
    "# if\n",
    "\n",
    "age =25\n",
    "\n",
    "if age>= 18:\n",
    "    print('You are not qualified. The game is for under 18')\n",
    "else:\n",
    "    print('Login with your email and password!')"
   ]
  },
  {
   "cell_type": "code",
   "execution_count": 67,
   "id": "b93c28a4",
   "metadata": {
    "scrolled": true
   },
   "outputs": [
    {
     "name": "stdout",
     "output_type": "stream",
     "text": [
      "We are far from home!\n"
     ]
    }
   ],
   "source": [
    "# if,else,elif\n",
    "\n",
    "distance = 1000\n",
    "\n",
    "if distance >= 800:\n",
    "    print('We are far from home!')\n",
    "elif distance >= 500:\n",
    "    print('We are half-way home')\n",
    "elif distance >= 100:\n",
    "    print('We should be home if few seconds')\n",
    "else:\n",
    "    print('We are home')"
   ]
  },
  {
   "cell_type": "markdown",
   "id": "ed8803a0",
   "metadata": {},
   "source": [
    "### for, while: These are used for looping constructs."
   ]
  },
  {
   "cell_type": "code",
   "execution_count": 3,
   "id": "b8a1cbf8",
   "metadata": {},
   "outputs": [
    {
     "name": "stdout",
     "output_type": "stream",
     "text": [
      "Bag\n",
      "pen\n",
      "book\n",
      "laptop\n",
      "bottle\n",
      "Mic\n",
      "0\n",
      "1\n",
      "2\n",
      "3\n",
      "4\n",
      "5\n",
      "6\n",
      "7\n",
      "8\n",
      "9\n"
     ]
    }
   ],
   "source": [
    "my_list = [\"Bag\",\"pen\",\"book\",\"laptop\",\"bottle\",\"Mic\"]\n",
    "\n",
    "for item in my_list: # Looping through each item in the list my_list\n",
    "  print(item)\n",
    "counter = 0\n",
    "while counter < 10: # Looping while counter is less than or equals 10\n",
    "    print(counter)\n",
    "    counter += 1"
   ]
  },
  {
   "cell_type": "markdown",
   "id": "ec07e3a0",
   "metadata": {},
   "source": [
    "# Structure Keywords:"
   ]
  },
  {
   "cell_type": "markdown",
   "id": "5a065a91",
   "metadata": {},
   "source": [
    "### def, class, with, as, pass, lambda: These define functions, classes, context managers, and anonymous functions."
   ]
  },
  {
   "cell_type": "code",
   "execution_count": 44,
   "id": "3ebcba0b",
   "metadata": {},
   "outputs": [
    {
     "name": "stdout",
     "output_type": "stream",
     "text": [
      "Hello there, Steve !\n"
     ]
    }
   ],
   "source": [
    "name=(\"Steve\")\n",
    "      \n",
    "def greet(name): # Defining a function greet that takes a name as argument\n",
    "    print(\"Hello there,\", name,\"!\")\n",
    "greet(name)"
   ]
  },
  {
   "cell_type": "code",
   "execution_count": 52,
   "id": "1e009ec5",
   "metadata": {},
   "outputs": [
    {
     "name": "stdout",
     "output_type": "stream",
     "text": [
      "This car is a 2020 Toyota Camry.\n"
     ]
    }
   ],
   "source": [
    "class Car: \n",
    "    def __init__ (self, make, model, year): # Defining a class Car\n",
    "        self.make = make\n",
    "        self.model = model\n",
    "        self.year = year\n",
    "    def display_info(self):\n",
    "        print(f\"This car is a {self.year} {self.make} {self.model}.\")\n",
    "    pass  # Placeholder for future class definition\n",
    "my_car = Car(\"Toyota\", \"Camry\", 2020)\n",
    "my_car.display_info()"
   ]
  },
  {
   "cell_type": "code",
   "execution_count": 53,
   "id": "dfec2435",
   "metadata": {},
   "outputs": [
    {
     "name": "stdout",
     "output_type": "stream",
     "text": [
      "14\n"
     ]
    }
   ],
   "source": [
    "# The code you provided defines a very simple anonymous function, also known as a lambda function,\n",
    "# and stores it in a variable named x. \n",
    "# Here's how you can use it:\n",
    "x = lambda a, b: a + b  # Defining an anonymous function that adds two numbers\n",
    "result = x(10,4)\n",
    "print(result)"
   ]
  },
  {
   "cell_type": "code",
   "execution_count": 54,
   "id": "58fa472d",
   "metadata": {},
   "outputs": [
    {
     "name": "stdout",
     "output_type": "stream",
     "text": [
      "The expected price of the product is 7000.\n"
     ]
    }
   ],
   "source": [
    "#another lamda example\n",
    "total_cost = lambda fixed_cost, variable_cost: fixed_cost + variable_cost\n",
    "price_expected =total_cost(5000,2000)\n",
    "print(f\"The expected price of the product is {price_expected}.\")"
   ]
  },
  {
   "cell_type": "markdown",
   "id": "b7c199a1",
   "metadata": {},
   "source": [
    "# Returning Keywords:"
   ]
  },
  {
   "cell_type": "markdown",
   "id": "f6cde901",
   "metadata": {},
   "source": [
    "### return, yield: These are used to return values from functions and generators."
   ]
  },
  {
   "cell_type": "code",
   "execution_count": 59,
   "id": "9a13bd75",
   "metadata": {},
   "outputs": [
    {
     "name": "stdout",
     "output_type": "stream",
     "text": [
      "25\n"
     ]
    }
   ],
   "source": [
    "def square(x):\n",
    "    return x * x # Returning the square of x\n",
    "x = 5\n",
    "print(square(x))"
   ]
  },
  {
   "cell_type": "code",
   "execution_count": 101,
   "id": "67981e4d",
   "metadata": {},
   "outputs": [
    {
     "name": "stdout",
     "output_type": "stream",
     "text": [
      "0\n",
      "2\n",
      "4\n",
      "6\n",
      "8\n",
      "10\n",
      "12\n",
      "14\n",
      "16\n",
      "18\n"
     ]
    }
   ],
   "source": [
    "#yield\n",
    "\n",
    "def number_generator():\n",
    "  num = 0\n",
    "  while num < 20:\n",
    "    yield num  # Pause execution and return current value of num\n",
    "    num += 2  # Update state (num) for the next yield\n",
    "\n",
    "# Calling the generator function doesn't return a value, it creates a generator object\n",
    "generator_object = number_generator()\n",
    "\n",
    "# Accessing the values using a loop (similar to iterating over a list)\n",
    "for number in generator_object:\n",
    "  print(number)"
   ]
  },
  {
   "cell_type": "markdown",
   "id": "164f0430",
   "metadata": {},
   "source": [
    "# Import Keywords:"
   ]
  },
  {
   "cell_type": "markdown",
   "id": "6b26ba23",
   "metadata": {},
   "source": [
    "### import, from, as: These are used to import modules and their contents."
   ]
  },
  {
   "cell_type": "code",
   "execution_count": 102,
   "id": "d8547c6f",
   "metadata": {},
   "outputs": [],
   "source": [
    "import math  # Importing the math module\n",
    "from math import pi # Importing pi from the math module as pi\n",
    "import pandas as pd  # Importing pandas module and assigning it to the alias pd"
   ]
  },
  {
   "cell_type": "markdown",
   "id": "6b4c5ab7",
   "metadata": {},
   "source": [
    "# Exception Handling Keywords:"
   ]
  },
  {
   "cell_type": "markdown",
   "id": "7448e7fc",
   "metadata": {},
   "source": [
    "### try, except, raise, finally, else: These are used for handling exceptions and errors during program execution."
   ]
  },
  {
   "cell_type": "code",
   "execution_count": 105,
   "id": "ff25b6b8",
   "metadata": {},
   "outputs": [
    {
     "name": "stdout",
     "output_type": "stream",
     "text": [
      "Division by zero is not allowed!\n"
     ]
    }
   ],
   "source": [
    "try:\n",
    "  result = 10 / 0  # This will raise an error (ZeroDivisionError)\n",
    "except ZeroDivisionError:\n",
    "  print(\"Division by zero is not allowed!\")\n",
    "else:\n",
    "    print(result)"
   ]
  },
  {
   "cell_type": "markdown",
   "id": "6efa78f2",
   "metadata": {},
   "source": [
    "### This is not an exhaustive list of all Python keywords\n",
    "### You can always refer to the official Python documentation for a complete list and detailed explanation of each keyword"
   ]
  }
 ],
 "metadata": {
  "kernelspec": {
   "display_name": "Python 3",
   "language": "python",
   "name": "python3"
  },
  "language_info": {
   "codemirror_mode": {
    "name": "ipython",
    "version": 3
   },
   "file_extension": ".py",
   "mimetype": "text/x-python",
   "name": "python",
   "nbconvert_exporter": "python",
   "pygments_lexer": "ipython3",
   "version": "3.8.8"
  }
 },
 "nbformat": 4,
 "nbformat_minor": 5
}
