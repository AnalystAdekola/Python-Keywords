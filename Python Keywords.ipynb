{
 "cells": [
  {
   "cell_type": "markdown",
   "id": "a9d5309a",
   "metadata": {},
   "source": [
    "# Python Keywords Lesson\n"
   ]
  },
  {
   "cell_type": "markdown",
   "id": "910a4cfd",
   "metadata": {},
   "source": [
    "### Value Keywords\n",
    "### True, False, and None"
   ]
  },
  {
   "cell_type": "code",
   "execution_count": 1,
   "id": "02f64bb9",
   "metadata": {},
   "outputs": [
    {
     "data": {
      "text/plain": [
       "True"
      ]
     },
     "execution_count": 1,
     "metadata": {},
     "output_type": "execute_result"
    }
   ],
   "source": [
    "x = True\n",
    "x is True"
   ]
  },
  {
   "cell_type": "code",
   "execution_count": 2,
   "id": "a1292d5b",
   "metadata": {},
   "outputs": [
    {
     "data": {
      "text/plain": [
       "True"
      ]
     },
     "execution_count": 2,
     "metadata": {},
     "output_type": "execute_result"
    }
   ],
   "source": [
    "y =False\n",
    "y is False"
   ]
  },
  {
   "cell_type": "code",
   "execution_count": 3,
   "id": "2591d720",
   "metadata": {},
   "outputs": [
    {
     "data": {
      "text/plain": [
       "False"
      ]
     },
     "execution_count": 3,
     "metadata": {},
     "output_type": "execute_result"
    }
   ],
   "source": [
    "x is False"
   ]
  },
  {
   "cell_type": "code",
   "execution_count": 4,
   "id": "4da293a3",
   "metadata": {},
   "outputs": [
    {
     "data": {
      "text/plain": [
       "False"
      ]
     },
     "execution_count": 4,
     "metadata": {},
     "output_type": "execute_result"
    }
   ],
   "source": [
    "y is True"
   ]
  },
  {
   "cell_type": "code",
   "execution_count": 5,
   "id": "2b4bc307",
   "metadata": {},
   "outputs": [
    {
     "data": {
      "text/plain": [
       "False"
      ]
     },
     "execution_count": 5,
     "metadata": {},
     "output_type": "execute_result"
    }
   ],
   "source": [
    "code =(\"Let's Code\")\n",
    "code is True"
   ]
  },
  {
   "cell_type": "code",
   "execution_count": 6,
   "id": "ca290c4c",
   "metadata": {},
   "outputs": [
    {
     "data": {
      "text/plain": [
       "True"
      ]
     },
     "execution_count": 6,
     "metadata": {},
     "output_type": "execute_result"
    }
   ],
   "source": [
    "bool(code) is True"
   ]
  },
  {
   "cell_type": "code",
   "execution_count": 7,
   "id": "0a870ee0",
   "metadata": {},
   "outputs": [
    {
     "data": {
      "text/plain": [
       "False"
      ]
     },
     "execution_count": 7,
     "metadata": {},
     "output_type": "execute_result"
    }
   ],
   "source": [
    "bool(code) is False"
   ]
  },
  {
   "cell_type": "code",
   "execution_count": 8,
   "id": "189aedc0",
   "metadata": {},
   "outputs": [
    {
     "data": {
      "text/plain": [
       "False"
      ]
     },
     "execution_count": 8,
     "metadata": {},
     "output_type": "execute_result"
    }
   ],
   "source": [
    "code1 = \"\"\n",
    "code1 is True"
   ]
  },
  {
   "cell_type": "code",
   "execution_count": 9,
   "id": "b5ba1d8b",
   "metadata": {},
   "outputs": [
    {
     "data": {
      "text/plain": [
       "False"
      ]
     },
     "execution_count": 9,
     "metadata": {},
     "output_type": "execute_result"
    }
   ],
   "source": [
    "code1 is False"
   ]
  },
  {
   "cell_type": "code",
   "execution_count": 10,
   "id": "af08ba97",
   "metadata": {},
   "outputs": [
    {
     "data": {
      "text/plain": [
       "False"
      ]
     },
     "execution_count": 10,
     "metadata": {},
     "output_type": "execute_result"
    }
   ],
   "source": [
    "bool(code1) is True"
   ]
  },
  {
   "cell_type": "code",
   "execution_count": 11,
   "id": "1d86b2db",
   "metadata": {},
   "outputs": [
    {
     "data": {
      "text/plain": [
       "True"
      ]
     },
     "execution_count": 11,
     "metadata": {},
     "output_type": "execute_result"
    }
   ],
   "source": [
    "bool(code1) is False"
   ]
  },
  {
   "cell_type": "code",
   "execution_count": 12,
   "id": "e85d941f",
   "metadata": {},
   "outputs": [
    {
     "name": "stdout",
     "output_type": "stream",
     "text": [
      "x is truthy\n"
     ]
    }
   ],
   "source": [
    "if x:\n",
    "    print('x is truthy')"
   ]
  },
  {
   "cell_type": "code",
   "execution_count": 15,
   "id": "d94bc030",
   "metadata": {},
   "outputs": [
    {
     "name": "stdout",
     "output_type": "stream",
     "text": [
      "x is Falsy\n"
     ]
    }
   ],
   "source": [
    "if code1:\n",
    "    print('x is truthy')\n",
    "else:\n",
    "    print('x is Falsy')"
   ]
  },
  {
   "cell_type": "markdown",
   "id": "2ad24801",
   "metadata": {},
   "source": [
    "#### In Python, you  don’t need to convert values to be explicitly True or False.\n",
    "#### Python will  determine the truthiness of the value for you."
   ]
  },
  {
   "cell_type": "code",
   "execution_count": 29,
   "id": "247df858",
   "metadata": {},
   "outputs": [
    {
     "name": "stdout",
     "output_type": "stream",
     "text": [
      "hello\n",
      "None\n"
     ]
    }
   ],
   "source": [
    "# None Keyword\n",
    "# None represents no value\n",
    "# None is represented as null, nil, none, undef, or undefined.\n",
    "\n",
    "# def has_no_return():\n",
    "#    pass\n",
    "# has_no_return()\n",
    "# print(has_no_return())\n",
    "# None\n",
    "\n",
    "def func():\n",
    "    print('hello')\n",
    "x = func()\n",
    "print(x)"
   ]
  },
  {
   "cell_type": "code",
   "execution_count": 31,
   "id": "8bd2eabb",
   "metadata": {
    "scrolled": true
   },
   "outputs": [
    {
     "name": "stdout",
     "output_type": "stream",
     "text": [
      "\n",
      "None\n"
     ]
    }
   ],
   "source": [
    "# print() has no return value, it will return None\n",
    "x = print()\n",
    "print(x)"
   ]
  },
  {
   "cell_type": "markdown",
   "id": "996c9f1f",
   "metadata": {},
   "source": [
    "# Operator Keywords\n",
    "# && and, | | or, ! not, in, === is\n",
    "# && and, both statements must agree\n",
    "# || or, either statement must agree\n",
    "# ! not, not present\n",
    "# in, present\n",
    "# === is, represents"
   ]
  },
  {
   "cell_type": "code",
   "execution_count": 35,
   "id": "972aeb17",
   "metadata": {},
   "outputs": [
    {
     "name": "stdout",
     "output_type": "stream",
     "text": [
      "Loan Granted!\n"
     ]
    }
   ],
   "source": [
    "age = 30\n",
    "status = \"Employed\"\n",
    "income = 200000\n",
    "\n",
    "\n",
    "valid_age = age >= 18\n",
    "valis_status = status = \"Employed\"\n",
    "valid_income = income >= 200000\n",
    "\n",
    "loan_granted = valid_age and valis_status and valid_income\n",
    "\n",
    "if loan_granted:\n",
    "    print('Loan Granted!')\n",
    "else:\n",
    "    print('Loan Declined!')"
   ]
  },
  {
   "cell_type": "markdown",
   "id": "ea48a904",
   "metadata": {},
   "source": [
    "> The and operator can work with 2 or more statements"
   ]
  },
  {
   "cell_type": "code",
   "execution_count": 36,
   "id": "49846ec9",
   "metadata": {},
   "outputs": [
    {
     "name": "stdout",
     "output_type": "stream",
     "text": [
      "You have been selected for the competition :)\n"
     ]
    }
   ],
   "source": [
    "# or\n",
    "\n",
    "Height = 5.76\n",
    "Weight = 65.6\n",
    "Age = 17\n",
    "\n",
    "Valid_Height= Height >= 4\n",
    "Valid_Weight = Weight >= 40\n",
    "Valid_Age = Age >= 18\n",
    "\n",
    "Selected = Valid_Height or Valid_Weight or Valid_Age\n",
    "\n",
    "if Selected:\n",
    "    print('You have been selected for the competition :)')\n",
    "else:\n",
    "    print('You are not qualified!')"
   ]
  },
  {
   "cell_type": "markdown",
   "id": "715d4e58",
   "metadata": {},
   "source": [
    "> As long as a condition is met, it will pass True"
   ]
  },
  {
   "cell_type": "code",
   "execution_count": 37,
   "id": "7e22bafd",
   "metadata": {},
   "outputs": [
    {
     "data": {
      "text/plain": [
       "False"
      ]
     },
     "execution_count": 37,
     "metadata": {},
     "output_type": "execute_result"
    }
   ],
   "source": [
    "# not\n",
    "Ade_age = 200\n",
    "not Ade_age"
   ]
  },
  {
   "cell_type": "code",
   "execution_count": 38,
   "id": "ce514b99",
   "metadata": {},
   "outputs": [
    {
     "data": {
      "text/plain": [
       "True"
      ]
     },
     "execution_count": 38,
     "metadata": {},
     "output_type": "execute_result"
    }
   ],
   "source": [
    "Femi_age = ''\n",
    "not Femi_age"
   ]
  },
  {
   "cell_type": "markdown",
   "id": "e59bfdaf",
   "metadata": {},
   "source": [
    "> not returns the opposite of the True value"
   ]
  },
  {
   "cell_type": "code",
   "execution_count": 43,
   "id": "7101370b",
   "metadata": {},
   "outputs": [
    {
     "data": {
      "text/plain": [
       "False"
      ]
     },
     "execution_count": 43,
     "metadata": {},
     "output_type": "execute_result"
    }
   ],
   "source": [
    "# in\n",
    "\n",
    "Country = 'Nigeria'\n",
    "'n' in Country #returns False, because there isn't a small letter n in 'Nigeria'"
   ]
  },
  {
   "cell_type": "code",
   "execution_count": 44,
   "id": "3a170af8",
   "metadata": {},
   "outputs": [
    {
     "data": {
      "text/plain": [
       "True"
      ]
     },
     "execution_count": 44,
     "metadata": {},
     "output_type": "execute_result"
    }
   ],
   "source": [
    "'N' in Country #returns True"
   ]
  },
  {
   "cell_type": "code",
   "execution_count": 45,
   "id": "44bab61b",
   "metadata": {},
   "outputs": [
    {
     "name": "stdout",
     "output_type": "stream",
     "text": [
      "Ada\n",
      "Femi\n",
      "Musa\n",
      "Ade\n"
     ]
    }
   ],
   "source": [
    "# using in to iterate\n",
    "# Print all names in the list\n",
    "names = [\"Ada\", \"Femi\", \"Musa\", \"Ade\"]\n",
    "for name in names:\n",
    "  print(name)"
   ]
  },
  {
   "cell_type": "markdown",
   "id": "f87165da",
   "metadata": {},
   "source": [
    ">'in' keyword works with all containers, list, tuple, dict, set and so on"
   ]
  },
  {
   "cell_type": "code",
   "execution_count": 56,
   "id": "c62842c5",
   "metadata": {},
   "outputs": [
    {
     "name": "stdout",
     "output_type": "stream",
     "text": [
      "True\n",
      "True\n"
     ]
    }
   ],
   "source": [
    "# is\n",
    "#The is keyword in Python is used for object identity comparison, not for checking value equality. \n",
    "#It determines whether two variables refer to the exact same object in memory.\n",
    "\n",
    "x = 200\n",
    "y = 200\n",
    "\n",
    "\n",
    "print(x == y)  # True - They have the same value (200)\n",
    "print(x is y)  # True - They point to the same object in memory (for small integers)"
   ]
  },
  {
   "cell_type": "code",
   "execution_count": 61,
   "id": "505d58d8",
   "metadata": {},
   "outputs": [
    {
     "name": "stdout",
     "output_type": "stream",
     "text": [
      "True\n",
      "True\n"
     ]
    }
   ],
   "source": [
    "a = \"Hello\"\n",
    "b = \"Hello\"\n",
    "\n",
    "print(a == b)  # True - They have the same value (\"Hello\")\n",
    "print(a is b)  # True - They point to the same object in memory"
   ]
  },
  {
   "cell_type": "code",
   "execution_count": 63,
   "id": "915e2514",
   "metadata": {
    "scrolled": true
   },
   "outputs": [
    {
     "name": "stdout",
     "output_type": "stream",
     "text": [
      "True\n",
      "False\n"
     ]
    }
   ],
   "source": [
    "c = list([1, 2, 3, 4, 5])\n",
    "d = list([1, 2, 3, 4, 5])\n",
    "\n",
    "\n",
    "print(c == d)  # True - They have the same values ([1, 2, 3, 4, 5])\n",
    "print(c is d)  # False - They point to different objects in memory"
   ]
  },
  {
   "cell_type": "markdown",
   "id": "18b02a9a",
   "metadata": {},
   "source": [
    "# Control flow keywords, if, else, elif"
   ]
  },
  {
   "cell_type": "markdown",
   "id": "1139a2e5",
   "metadata": {},
   "source": [
    "> The if keyword is fundamental to conditional programming in Python. \n",
    "> It allows you to execute code blocks only when a certain condition is met.\n",
    "> The else block provides an alternative code block to execute if the condition in the if statement is False.  \n",
    "> You can chain multiple conditions using elif (else if) statements to handle more complex scenarios. "
   ]
  },
  {
   "cell_type": "code",
   "execution_count": 64,
   "id": "a391fe84",
   "metadata": {},
   "outputs": [
    {
     "name": "stdout",
     "output_type": "stream",
     "text": [
      "You are not qualified. The game is for under 18\n"
     ]
    }
   ],
   "source": [
    "# if\n",
    "\n",
    "age =25\n",
    "\n",
    "if age>= 18:\n",
    "    print('You are not qualified. The game is for under 18')\n",
    "else:\n",
    "    print('Login with your email and password!')"
   ]
  },
  {
   "cell_type": "code",
   "execution_count": 67,
   "id": "b93c28a4",
   "metadata": {
    "scrolled": true
   },
   "outputs": [
    {
     "name": "stdout",
     "output_type": "stream",
     "text": [
      "We are far from home!\n"
     ]
    }
   ],
   "source": [
    "# if,else,elif\n",
    "\n",
    "distance = 1000\n",
    "\n",
    "if distance >= 800:\n",
    "    print('We are far from home!')\n",
    "elif distance >= 500:\n",
    "    print('We are half-way home')\n",
    "elif distance >= 100:\n",
    "    print('We should be home if few seconds')\n",
    "else:\n",
    "    print('We are home')"
   ]
  },
  {
   "cell_type": "code",
   "execution_count": null,
   "id": "3901f80c",
   "metadata": {},
   "outputs": [],
   "source": []
  }
 ],
 "metadata": {
  "kernelspec": {
   "display_name": "Python 3",
   "language": "python",
   "name": "python3"
  },
  "language_info": {
   "codemirror_mode": {
    "name": "ipython",
    "version": 3
   },
   "file_extension": ".py",
   "mimetype": "text/x-python",
   "name": "python",
   "nbconvert_exporter": "python",
   "pygments_lexer": "ipython3",
   "version": "3.8.8"
  }
 },
 "nbformat": 4,
 "nbformat_minor": 5
}
